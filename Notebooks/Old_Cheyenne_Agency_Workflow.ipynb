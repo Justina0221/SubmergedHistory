{
 "cells": [
  {
   "cell_type": "markdown",
   "id": "29ca3d03",
   "metadata": {},
   "source": [
    "# Cheyenne Agency - LiDAR & Geospatial Analysis\n",
    "This notebook demonstrates the workflow for processing LiDAR and historical data to investigate the submerged site of the Cheyenne Agency.\n"
   ]
  },
  {
   "cell_type": "markdown",
   "id": "4d98a936",
   "metadata": {},
   "source": [
    "## 1. Environment Setup (Command Line)"
   ]
  },
  {
   "cell_type": "code",
   "execution_count": null,
   "id": "741f94e4",
   "metadata": {},
   "outputs": [],
   "source": [
    "\n",
    "# Run these commands in your terminal (not in notebook)\n",
    "# conda create -n lidar_env python=3.9 geopandas rasterio rioxarray xarray matplotlib contextily elevation folium pyproj\n",
    "# conda activate lidar_env\n",
    "# pip install laspy pdal ipywidgets notebook nbconvert\n",
    "    "
   ]
  },
  {
   "cell_type": "markdown",
   "id": "27b311c1-8b19-4bc3-8944-82297a2019b2",
   "metadata": {},
   "source": [
    "## Import Packages (if necessary)"
   ]
  },
  {
   "cell_type": "code",
   "execution_count": null,
   "id": "4887face-1459-46ef-8e82-6b6c5e6a495f",
   "metadata": {},
   "outputs": [],
   "source": [
    "import rioxarray as rxr\n",
    "import numpy as np\n",
    "import matplotlib.pyplot as plt\n",
    "\n",
    "import holoviews as hv\n",
    "hv.extension('bokeh')  \n",
    "\n",
    "import laspy\n",
    "print(\"Available backends:\", laspy.LazBackend.detect_available())"
   ]
  },
  {
   "cell_type": "markdown",
   "id": "a8418581",
   "metadata": {},
   "source": [
    "## 2. Download and Prepare Data"
   ]
  },
  {
   "cell_type": "code",
   "execution_count": null,
   "id": "6cece9c2",
   "metadata": {},
   "outputs": [],
   "source": [
    "# List of file paths\n",
    "filepaths = [\n",
    "    \"USGS_LPC_SD_FY17_NRCS_Lidar_QSI_2017_D17_14TLQ396985.laz\",\n",
    "    \"USGS_LPC_SD_FY17_NRCS_Lidar_QSI_2017_D17_14TLQ397986.laz\",\n",
    "    \"USGS_LPC_SD_FY17_NRCS_Lidar_QSI_2017_D17_14TLQ397985.laz\",\n",
    "    \"USGS_LPC_SD_FY17_NRCS_Lidar_QSI_2017_D17_14TLQ396986.laz\"\n",
    "]\n",
    "\n",
    "# Lists to store coordinate arrays\n",
    "x_all, y_all, z_all = [], [], []\n",
    "\n",
    "# Use a loop to read and store all coordinates\n",
    "for path in filepaths:\n",
    "    las = laspy.read(path)\n",
    "    x_all.append(las.x)\n",
    "    y_all.append(las.y)\n",
    "    z_all.append(las.z)\n",
    "\n",
    "# Concatenate into full arrays\n",
    "x = np.concatenate(x_all)\n",
    "y = np.concatenate(y_all)\n",
    "z = np.concatenate(z_all)\n",
    "\n",
    "print(f\"Loaded {len(x)} total points from {len(filepaths)} tiles.\")"
   ]
  },
  {
   "cell_type": "markdown",
   "id": "4ffeaecf",
   "metadata": {},
   "source": [
    "## 3. Plot data "
   ]
  },
  {
   "cell_type": "code",
   "execution_count": null,
   "id": "5ff40afa",
   "metadata": {},
   "outputs": [],
   "source": [
    "plt.figure(figsize=(10, 8))\n",
    "plt.scatter(x, y, c=z, cmap='terrain', s=0.5)\n",
    "plt.colorbar(label='Elevation (Z)')\n",
    "plt.title(\"Combined LiDAR Points from four Tiles\")\n",
    "plt.xlabel(\"X\")\n",
    "plt.ylabel(\"Y\")\n",
    "plt.show() "
   ]
  },
  {
   "cell_type": "code",
   "execution_count": null,
   "id": "44e9bafc-dc5f-4577-abc6-249cf6ee3342",
   "metadata": {},
   "outputs": [],
   "source": []
  }
 ],
 "metadata": {
  "kernelspec": {
   "display_name": "Python 3 (ipykernel)",
   "language": "python",
   "name": "python3"
  },
  "language_info": {
   "codemirror_mode": {
    "name": "ipython",
    "version": 3
   },
   "file_extension": ".py",
   "mimetype": "text/x-python",
   "name": "python",
   "nbconvert_exporter": "python",
   "pygments_lexer": "ipython3",
   "version": "3.12.4"
  }
 },
 "nbformat": 4,
 "nbformat_minor": 5
}
